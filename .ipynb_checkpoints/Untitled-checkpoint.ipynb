{
 "cells": [
  {
   "cell_type": "code",
   "execution_count": 235,
   "metadata": {
    "collapsed": false
   },
   "outputs": [],
   "source": [
    "import sqlite3\n",
    "import time"
   ]
  },
  {
   "cell_type": "code",
   "execution_count": 236,
   "metadata": {
    "collapsed": true
   },
   "outputs": [],
   "source": [
    "time_db = sqlite3.connect('time.db')"
   ]
  },
  {
   "cell_type": "code",
   "execution_count": 237,
   "metadata": {
    "collapsed": true
   },
   "outputs": [],
   "source": [
    "db_cursor = time_db.cursor()"
   ]
  },
  {
   "cell_type": "code",
   "execution_count": null,
   "metadata": {
    "collapsed": false
   },
   "outputs": [],
   "source": []
  },
  {
   "cell_type": "code",
   "execution_count": 238,
   "metadata": {
    "collapsed": true
   },
   "outputs": [],
   "source": [
    "table_name = 'sleep_wake_table'\n",
    "id_column = 'ID'\n",
    "ID_col_type = 'INTEGER'\n",
    "sleep_column = 'sleep'\n",
    "column_type = 'REAL'\n",
    "default_val = None\n",
    "field_type = 'REAL' \n",
    "wake_column = 'wake'\n",
    "diff_column = 'diff'"
   ]
  },
  {
   "cell_type": "code",
   "execution_count": 239,
   "metadata": {
    "collapsed": false
   },
   "outputs": [],
   "source": [
    "def table_creator():\n",
    "    db_cursor.execute('CREATE TABLE {tn} ({nf} {ft} PRIMARY KEY)'\\\n",
    "            .format(tn=table_name, nf=id_column, ft=ID_col_type))\n",
    "    db_cursor.execute(\"ALTER TABLE {tn} ADD COLUMN '{cn}' {ct} DEFAULT '{df}'\"\\\n",
    "            .format(tn=table_name, cn=sleep_column, ct=column_type, df=default_val))\n",
    "    db_cursor.execute(\"ALTER TABLE {tn} ADD COLUMN '{cn}' {ct} DEFAULT '{df}'\"\\\n",
    "            .format(tn=table_name, cn=wake_column, ct=column_type, df=default_val))\n",
    "    db_cursor.execute(\"ALTER TABLE {tn} ADD COLUMN '{cn}' {ct} DEFAULT '{df}'\"\\\n",
    "            .format(tn=table_name, cn=diff_column, ct=column_type, df=default_val))\n",
    "    time_db.commit()"
   ]
  },
  {
   "cell_type": "code",
   "execution_count": 240,
   "metadata": {
    "collapsed": false
   },
   "outputs": [],
   "source": [
    "table_creator()"
   ]
  },
  {
   "cell_type": "code",
   "execution_count": 241,
   "metadata": {
    "collapsed": false
   },
   "outputs": [],
   "source": [
    "def sleep_time():\n",
    "    db_cursor.execute(\"INSERT OR IGNORE INTO {tn} ({idf}, {cn}) VALUES ({id_num}, {sleep_time})\".\\\n",
    "            format(tn=table_name, idf=id_column, cn=sleep_column, id_num=how_many_rows(), sleep_time=time.time()))\n",
    "    time_db.commit()"
   ]
  },
  {
   "cell_type": "code",
   "execution_count": 252,
   "metadata": {
    "collapsed": false
   },
   "outputs": [
    {
     "name": "stdout",
     "output_type": "stream",
     "text": [
      "[(0.0, 1482855672.03, u'None', u'None'), (1.0, 1482855678.38, u'None', u'None'), (2.0, 1482855680.97, u'None', u'None')]\n"
     ]
    }
   ],
   "source": [
    "sleep_time()"
   ]
  },
  {
   "cell_type": "code",
   "execution_count": 253,
   "metadata": {
    "collapsed": false
   },
   "outputs": [],
   "source": [
    "def how_many_rows():\n",
    "    db_cursor.execute('SELECT * FROM {tn}'\\\n",
    "                      .format(tn=table_name, idf=id_column))\n",
    "    all_rows = db_cursor.fetchall()\n",
    "    print all_rows\n",
    "    return len(all_rows)\n"
   ]
  },
  {
   "cell_type": "code",
   "execution_count": 254,
   "metadata": {
    "collapsed": false
   },
   "outputs": [
    {
     "name": "stdout",
     "output_type": "stream",
     "text": [
      "[(0.0, 1482855672.03, u'None', u'None'), (1.0, 1482855678.38, u'None', u'None'), (2.0, 1482855680.97, u'None', u'None'), (3.0, 1482855683.09, u'None', u'None')]\n"
     ]
    },
    {
     "data": {
      "text/plain": [
       "4"
      ]
     },
     "execution_count": 254,
     "metadata": {},
     "output_type": "execute_result"
    }
   ],
   "source": [
    "how_many_rows()"
   ]
  },
  {
   "cell_type": "code",
   "execution_count": null,
   "metadata": {
    "collapsed": true
   },
   "outputs": [],
   "source": []
  }
 ],
 "metadata": {
  "kernelspec": {
   "display_name": "Python 2",
   "language": "python",
   "name": "python2"
  },
  "language_info": {
   "codemirror_mode": {
    "name": "ipython",
    "version": 2
   },
   "file_extension": ".py",
   "mimetype": "text/x-python",
   "name": "python",
   "nbconvert_exporter": "python",
   "pygments_lexer": "ipython2",
   "version": "2.7.13"
  }
 },
 "nbformat": 4,
 "nbformat_minor": 2
}
